{
 "cells": [
  {
   "cell_type": "markdown",
   "metadata": {},
   "source": [
    "# 在word2vec上训练情感分析模型"
   ]
  },
  {
   "cell_type": "code",
   "execution_count": 5,
   "metadata": {
    "collapsed": true
   },
   "outputs": [],
   "source": [
    "import os \n",
    "import re\n",
    "import numpy as np\n",
    "import pandas as pd\n",
    "\n",
    "from bs4 import BeautifulSoup\n",
    "\n",
    "from nltk.corpus import stopwords\n",
    "\n",
    "from gensim.models.word2vec import Word2Vec\n",
    "\n",
    "from sklearn.ensemble import RandomForestClassifier\n",
    "from sklearn.metrics import confusion_matrix\n",
    "from sklearn.cluster import KMeans"
   ]
  },
  {
   "cell_type": "code",
   "execution_count": 14,
   "metadata": {
    "collapsed": true
   },
   "outputs": [],
   "source": [
    "def load_dataset(name, nrows=None):\n",
    "    datasets = {\n",
    "        'unlabeled_train': 'unlabeledTrainData.tsv',\n",
    "        'labeled_train': 'labeledTrainData.tsv',\n",
    "        'test': 'testData.tsv'\n",
    "    }\n",
    "    if name not in datasets:\n",
    "        raise ValueError(name)\n",
    "    data_file = os.path.join('.', 'data', datasets[name])\n",
    "    df = pd.read_csv(data_file, sep='\\t', escapechar='\\\\', nrows=nrows)\n",
    "    print('Number of reviews: {}'.format(len(df)))\n",
    "    return df"
   ]
  },
  {
   "cell_type": "code",
   "execution_count": 6,
   "metadata": {},
   "outputs": [],
   "source": [
    "eng_stopwords = set(stopwords.words('english'))\n",
    "\n",
    "def clean_text(text, remove_stopwords=False):\n",
    "    text = BeautifulSoup(text, 'html.parser').get_text()\n",
    "    text = re.sub(r'[^a-zA-Z]', ' ', text)\n",
    "    words = text.lower().split()\n",
    "    if remove_stopwords:\n",
    "        words = [w for w in words if w not in eng_stopwords]\n",
    "    return words"
   ]
  },
  {
   "cell_type": "markdown",
   "metadata": {},
   "source": [
    "# 读入训练好的word2vec模型"
   ]
  },
  {
   "cell_type": "code",
   "execution_count": 12,
   "metadata": {},
   "outputs": [
    {
     "data": {
      "text/plain": [
       "<gensim.models.word2vec.Word2Vec at 0x104eb0f50>"
      ]
     },
     "execution_count": 12,
     "metadata": {},
     "output_type": "execute_result"
    }
   ],
   "source": [
    "model_name = '300features_10minwords_10context.model'\n",
    "model = Word2Vec.load(os.path.join('.','model',model_name))\n",
    "model"
   ]
  },
  {
   "cell_type": "markdown",
   "metadata": {},
   "source": [
    "## 根据word2vec的结果多影评文本进行编码"
   ]
  },
  {
   "cell_type": "code",
   "execution_count": 15,
   "metadata": {},
   "outputs": [
    {
     "name": "stdout",
     "output_type": "stream",
     "text": [
      "Number of reviews: 25000\n"
     ]
    },
    {
     "data": {
      "text/html": [
       "<div>\n",
       "<style>\n",
       "    .dataframe thead tr:only-child th {\n",
       "        text-align: right;\n",
       "    }\n",
       "\n",
       "    .dataframe thead th {\n",
       "        text-align: left;\n",
       "    }\n",
       "\n",
       "    .dataframe tbody tr th {\n",
       "        vertical-align: top;\n",
       "    }\n",
       "</style>\n",
       "<table border=\"1\" class=\"dataframe\">\n",
       "  <thead>\n",
       "    <tr style=\"text-align: right;\">\n",
       "      <th></th>\n",
       "      <th>id</th>\n",
       "      <th>sentiment</th>\n",
       "      <th>review</th>\n",
       "    </tr>\n",
       "  </thead>\n",
       "  <tbody>\n",
       "    <tr>\n",
       "      <th>0</th>\n",
       "      <td>5814_8</td>\n",
       "      <td>1</td>\n",
       "      <td>With all this stuff going down at the moment w...</td>\n",
       "    </tr>\n",
       "    <tr>\n",
       "      <th>1</th>\n",
       "      <td>2381_9</td>\n",
       "      <td>1</td>\n",
       "      <td>\"The Classic War of the Worlds\" by Timothy Hin...</td>\n",
       "    </tr>\n",
       "    <tr>\n",
       "      <th>2</th>\n",
       "      <td>7759_3</td>\n",
       "      <td>0</td>\n",
       "      <td>The film starts with a manager (Nicholas Bell)...</td>\n",
       "    </tr>\n",
       "    <tr>\n",
       "      <th>3</th>\n",
       "      <td>3630_4</td>\n",
       "      <td>0</td>\n",
       "      <td>It must be assumed that those who praised this...</td>\n",
       "    </tr>\n",
       "    <tr>\n",
       "      <th>4</th>\n",
       "      <td>9495_8</td>\n",
       "      <td>1</td>\n",
       "      <td>Superbly trashy and wondrously unpretentious 8...</td>\n",
       "    </tr>\n",
       "  </tbody>\n",
       "</table>\n",
       "</div>"
      ],
      "text/plain": [
       "       id  sentiment                                             review\n",
       "0  5814_8          1  With all this stuff going down at the moment w...\n",
       "1  2381_9          1  \"The Classic War of the Worlds\" by Timothy Hin...\n",
       "2  7759_3          0  The film starts with a manager (Nicholas Bell)...\n",
       "3  3630_4          0  It must be assumed that those who praised this...\n",
       "4  9495_8          1  Superbly trashy and wondrously unpretentious 8..."
      ]
     },
     "execution_count": 15,
     "metadata": {},
     "output_type": "execute_result"
    }
   ],
   "source": [
    "df = load_dataset('labeled_train')\n",
    "df.head()"
   ]
  },
  {
   "cell_type": "code",
   "execution_count": 16,
   "metadata": {
    "collapsed": true
   },
   "outputs": [],
   "source": [
    "# 这里的做法是把每条评论的所有单词的词向量家和取均值，naive\n",
    "def to_review_vector(review):\n",
    "    words = clean_text(review)\n",
    "    array = np.array([model[w] for w in words if w in model])\n",
    "    return pd.Series(array.mean(axis = 0))"
   ]
  },
  {
   "cell_type": "code",
   "execution_count": 17,
   "metadata": {},
   "outputs": [
    {
     "name": "stderr",
     "output_type": "stream",
     "text": [
      "/Users/zhangyanan/anaconda2/lib/python2.7/site-packages/ipykernel_launcher.py:3: DeprecationWarning: Call to deprecated `__contains__` (Method will be removed in 4.0.0, use self.wv.__contains__() instead).\n",
      "  This is separate from the ipykernel package so we can avoid doing imports until\n",
      "/Users/zhangyanan/anaconda2/lib/python2.7/site-packages/ipykernel_launcher.py:3: DeprecationWarning: Call to deprecated `__getitem__` (Method will be removed in 4.0.0, use self.wv.__getitem__() instead).\n",
      "  This is separate from the ipykernel package so we can avoid doing imports until\n"
     ]
    },
    {
     "data": {
      "text/html": [
       "<div>\n",
       "<style>\n",
       "    .dataframe thead tr:only-child th {\n",
       "        text-align: right;\n",
       "    }\n",
       "\n",
       "    .dataframe thead th {\n",
       "        text-align: left;\n",
       "    }\n",
       "\n",
       "    .dataframe tbody tr th {\n",
       "        vertical-align: top;\n",
       "    }\n",
       "</style>\n",
       "<table border=\"1\" class=\"dataframe\">\n",
       "  <thead>\n",
       "    <tr style=\"text-align: right;\">\n",
       "      <th></th>\n",
       "      <th>0</th>\n",
       "      <th>1</th>\n",
       "      <th>2</th>\n",
       "      <th>3</th>\n",
       "      <th>4</th>\n",
       "      <th>5</th>\n",
       "      <th>6</th>\n",
       "      <th>7</th>\n",
       "      <th>8</th>\n",
       "      <th>9</th>\n",
       "      <th>...</th>\n",
       "      <th>290</th>\n",
       "      <th>291</th>\n",
       "      <th>292</th>\n",
       "      <th>293</th>\n",
       "      <th>294</th>\n",
       "      <th>295</th>\n",
       "      <th>296</th>\n",
       "      <th>297</th>\n",
       "      <th>298</th>\n",
       "      <th>299</th>\n",
       "    </tr>\n",
       "  </thead>\n",
       "  <tbody>\n",
       "    <tr>\n",
       "      <th>0</th>\n",
       "      <td>-0.013136</td>\n",
       "      <td>-0.008601</td>\n",
       "      <td>0.008102</td>\n",
       "      <td>0.002320</td>\n",
       "      <td>-0.013041</td>\n",
       "      <td>0.004052</td>\n",
       "      <td>-0.008471</td>\n",
       "      <td>0.006639</td>\n",
       "      <td>0.014264</td>\n",
       "      <td>-0.019703</td>\n",
       "      <td>...</td>\n",
       "      <td>-0.003595</td>\n",
       "      <td>0.006053</td>\n",
       "      <td>-0.002416</td>\n",
       "      <td>-0.008749</td>\n",
       "      <td>-0.009902</td>\n",
       "      <td>0.011230</td>\n",
       "      <td>0.006375</td>\n",
       "      <td>-0.015609</td>\n",
       "      <td>0.009819</td>\n",
       "      <td>0.007952</td>\n",
       "    </tr>\n",
       "    <tr>\n",
       "      <th>1</th>\n",
       "      <td>-0.015347</td>\n",
       "      <td>0.002005</td>\n",
       "      <td>-0.000907</td>\n",
       "      <td>-0.007540</td>\n",
       "      <td>-0.012829</td>\n",
       "      <td>0.003942</td>\n",
       "      <td>-0.016349</td>\n",
       "      <td>0.011501</td>\n",
       "      <td>0.017876</td>\n",
       "      <td>-0.027880</td>\n",
       "      <td>...</td>\n",
       "      <td>-0.002300</td>\n",
       "      <td>0.010388</td>\n",
       "      <td>-0.005939</td>\n",
       "      <td>0.000633</td>\n",
       "      <td>0.002901</td>\n",
       "      <td>0.008876</td>\n",
       "      <td>0.004960</td>\n",
       "      <td>-0.010098</td>\n",
       "      <td>0.004710</td>\n",
       "      <td>0.000210</td>\n",
       "    </tr>\n",
       "    <tr>\n",
       "      <th>2</th>\n",
       "      <td>-0.016728</td>\n",
       "      <td>0.002448</td>\n",
       "      <td>0.000345</td>\n",
       "      <td>-0.002283</td>\n",
       "      <td>-0.006208</td>\n",
       "      <td>0.013001</td>\n",
       "      <td>-0.009454</td>\n",
       "      <td>0.013228</td>\n",
       "      <td>0.026653</td>\n",
       "      <td>-0.015238</td>\n",
       "      <td>...</td>\n",
       "      <td>0.008515</td>\n",
       "      <td>0.001848</td>\n",
       "      <td>-0.018959</td>\n",
       "      <td>0.011622</td>\n",
       "      <td>0.001687</td>\n",
       "      <td>0.007134</td>\n",
       "      <td>-0.016329</td>\n",
       "      <td>0.004105</td>\n",
       "      <td>0.000528</td>\n",
       "      <td>0.002606</td>\n",
       "    </tr>\n",
       "    <tr>\n",
       "      <th>3</th>\n",
       "      <td>-0.014231</td>\n",
       "      <td>-0.003985</td>\n",
       "      <td>0.004035</td>\n",
       "      <td>0.012628</td>\n",
       "      <td>-0.002745</td>\n",
       "      <td>0.003662</td>\n",
       "      <td>-0.018115</td>\n",
       "      <td>0.003086</td>\n",
       "      <td>0.014750</td>\n",
       "      <td>-0.028962</td>\n",
       "      <td>...</td>\n",
       "      <td>0.003085</td>\n",
       "      <td>0.005768</td>\n",
       "      <td>-0.017374</td>\n",
       "      <td>0.009206</td>\n",
       "      <td>0.009195</td>\n",
       "      <td>0.012355</td>\n",
       "      <td>-0.008875</td>\n",
       "      <td>-0.020016</td>\n",
       "      <td>0.004525</td>\n",
       "      <td>0.006851</td>\n",
       "    </tr>\n",
       "    <tr>\n",
       "      <th>4</th>\n",
       "      <td>-0.023095</td>\n",
       "      <td>-0.005043</td>\n",
       "      <td>0.006312</td>\n",
       "      <td>0.009030</td>\n",
       "      <td>-0.001652</td>\n",
       "      <td>0.009097</td>\n",
       "      <td>-0.013841</td>\n",
       "      <td>0.008905</td>\n",
       "      <td>0.018002</td>\n",
       "      <td>-0.011310</td>\n",
       "      <td>...</td>\n",
       "      <td>0.005649</td>\n",
       "      <td>0.004414</td>\n",
       "      <td>-0.011910</td>\n",
       "      <td>0.003434</td>\n",
       "      <td>-0.012384</td>\n",
       "      <td>0.004966</td>\n",
       "      <td>-0.003566</td>\n",
       "      <td>-0.000073</td>\n",
       "      <td>0.005456</td>\n",
       "      <td>0.008788</td>\n",
       "    </tr>\n",
       "  </tbody>\n",
       "</table>\n",
       "<p>5 rows × 300 columns</p>\n",
       "</div>"
      ],
      "text/plain": [
       "        0         1         2         3         4         5         6    \\\n",
       "0 -0.013136 -0.008601  0.008102  0.002320 -0.013041  0.004052 -0.008471   \n",
       "1 -0.015347  0.002005 -0.000907 -0.007540 -0.012829  0.003942 -0.016349   \n",
       "2 -0.016728  0.002448  0.000345 -0.002283 -0.006208  0.013001 -0.009454   \n",
       "3 -0.014231 -0.003985  0.004035  0.012628 -0.002745  0.003662 -0.018115   \n",
       "4 -0.023095 -0.005043  0.006312  0.009030 -0.001652  0.009097 -0.013841   \n",
       "\n",
       "        7         8         9      ...          290       291       292  \\\n",
       "0  0.006639  0.014264 -0.019703    ...    -0.003595  0.006053 -0.002416   \n",
       "1  0.011501  0.017876 -0.027880    ...    -0.002300  0.010388 -0.005939   \n",
       "2  0.013228  0.026653 -0.015238    ...     0.008515  0.001848 -0.018959   \n",
       "3  0.003086  0.014750 -0.028962    ...     0.003085  0.005768 -0.017374   \n",
       "4  0.008905  0.018002 -0.011310    ...     0.005649  0.004414 -0.011910   \n",
       "\n",
       "        293       294       295       296       297       298       299  \n",
       "0 -0.008749 -0.009902  0.011230  0.006375 -0.015609  0.009819  0.007952  \n",
       "1  0.000633  0.002901  0.008876  0.004960 -0.010098  0.004710  0.000210  \n",
       "2  0.011622  0.001687  0.007134 -0.016329  0.004105  0.000528  0.002606  \n",
       "3  0.009206  0.009195  0.012355 -0.008875 -0.020016  0.004525  0.006851  \n",
       "4  0.003434 -0.012384  0.004966 -0.003566 -0.000073  0.005456  0.008788  \n",
       "\n",
       "[5 rows x 300 columns]"
      ]
     },
     "execution_count": 17,
     "metadata": {},
     "output_type": "execute_result"
    }
   ],
   "source": [
    "train_data_features = df.review.apply(to_review_vector)\n",
    "train_data_features.head()"
   ]
  },
  {
   "cell_type": "markdown",
   "metadata": {},
   "source": [
    "现在，每条评论都由了一个词向量代表（如果是短文本的话，应该效果还可以）"
   ]
  },
  {
   "cell_type": "markdown",
   "metadata": {},
   "source": [
    "## 构建分类器"
   ]
  },
  {
   "cell_type": "code",
   "execution_count": 18,
   "metadata": {
    "collapsed": true
   },
   "outputs": [],
   "source": [
    "forest = RandomForestClassifier(n_estimators=100,random_state=20)\n",
    "forest = forest.fit(train_data_features,df.sentiment)"
   ]
  },
  {
   "cell_type": "code",
   "execution_count": 19,
   "metadata": {},
   "outputs": [
    {
     "data": {
      "text/plain": [
       "array([[12500,     0],\n",
       "       [    0, 12500]])"
      ]
     },
     "execution_count": 19,
     "metadata": {},
     "output_type": "execute_result"
    }
   ],
   "source": [
    "# 测试一下模型是否可用\n",
    "confusion_matrix(df.sentiment,forest.predict(train_data_features))"
   ]
  },
  {
   "cell_type": "code",
   "execution_count": null,
   "metadata": {
    "collapsed": true
   },
   "outputs": [],
   "source": []
  }
 ],
 "metadata": {
  "kernelspec": {
   "display_name": "Python 2",
   "language": "python",
   "name": "python2"
  },
  "language_info": {
   "codemirror_mode": {
    "name": "ipython",
    "version": 2
   },
   "file_extension": ".py",
   "mimetype": "text/x-python",
   "name": "python",
   "nbconvert_exporter": "python",
   "pygments_lexer": "ipython2",
   "version": "2.7.14"
  },
  "toc": {
   "nav_menu": {},
   "number_sections": true,
   "sideBar": true,
   "skip_h1_title": false,
   "title_cell": "Table of Contents",
   "title_sidebar": "Contents",
   "toc_cell": false,
   "toc_position": {},
   "toc_section_display": true,
   "toc_window_display": false
  }
 },
 "nbformat": 4,
 "nbformat_minor": 2
}
