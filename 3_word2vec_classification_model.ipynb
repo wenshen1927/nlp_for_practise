{
 "cells": [
  {
   "cell_type": "markdown",
   "metadata": {},
   "source": [
    "# 在word2vec上训练情感分析模型"
   ]
  },
  {
   "cell_type": "code",
   "execution_count": 5,
   "metadata": {
    "collapsed": true
   },
   "outputs": [],
   "source": [
    "import os \n",
    "import re\n",
    "import numpy as np\n",
    "import pandas as pd\n",
    "\n",
    "from bs4 import BeautifulSoup\n",
    "\n",
    "from nltk.corpus import stopwords\n",
    "\n",
    "from gensim.models.word2vec import Word2Vec\n",
    "\n",
    "from sklearn.ensemble import RandomForestClassifier\n",
    "from sklearn.metrics import confusion_matrix\n",
    "from sklearn.cluster import KMeans"
   ]
  },
  {
   "cell_type": "code",
   "execution_count": 14,
   "metadata": {
    "collapsed": true
   },
   "outputs": [],
   "source": [
    "def load_dataset(name, nrows=None):\n",
    "    datasets = {\n",
    "        'unlabeled_train': 'unlabeledTrainData.tsv',\n",
    "        'labeled_train': 'labeledTrainData.tsv',\n",
    "        'test': 'testData.tsv'\n",
    "    }\n",
    "    if name not in datasets:\n",
    "        raise ValueError(name)\n",
    "    data_file = os.path.join('.', 'data', datasets[name])\n",
    "    df = pd.read_csv(data_file, sep='\\t', escapechar='\\\\', nrows=nrows)\n",
    "    print('Number of reviews: {}'.format(len(df)))\n",
    "    return df"
   ]
  },
  {
   "cell_type": "code",
   "execution_count": 6,
   "metadata": {},
   "outputs": [],
   "source": [
    "eng_stopwords = set(stopwords.words('english'))\n",
    "\n",
    "def clean_text(text, remove_stopwords=False):\n",
    "    text = BeautifulSoup(text, 'html.parser').get_text()\n",
    "    text = re.sub(r'[^a-zA-Z]', ' ', text)\n",
    "    words = text.lower().split()\n",
    "    if remove_stopwords:\n",
    "        words = [w for w in words if w not in eng_stopwords]\n",
    "    return words"
   ]
  },
  {
   "cell_type": "markdown",
   "metadata": {},
   "source": [
    "# 读入训练好的word2vec模型"
   ]
  },
  {
   "cell_type": "code",
   "execution_count": 12,
   "metadata": {},
   "outputs": [
    {
     "data": {
      "text/plain": [
       "<gensim.models.word2vec.Word2Vec at 0x104eb0f50>"
      ]
     },
     "execution_count": 12,
     "metadata": {},
     "output_type": "execute_result"
    }
   ],
   "source": [
    "model_name = '300features_10minwords_10context.model'\n",
    "model = Word2Vec.load(os.path.join('.','model',model_name))\n",
    "model"
   ]
  },
  {
   "cell_type": "markdown",
   "metadata": {},
   "source": [
    "## 根据word2vec的结果多影评文本进行编码"
   ]
  },
  {
   "cell_type": "code",
   "execution_count": 15,
   "metadata": {},
   "outputs": [
    {
     "name": "stdout",
     "output_type": "stream",
     "text": [
      "Number of reviews: 25000\n"
     ]
    },
    {
     "data": {
      "text/html": [
       "<div>\n",
       "<style>\n",
       "    .dataframe thead tr:only-child th {\n",
       "        text-align: right;\n",
       "    }\n",
       "\n",
       "    .dataframe thead th {\n",
       "        text-align: left;\n",
       "    }\n",
       "\n",
       "    .dataframe tbody tr th {\n",
       "        vertical-align: top;\n",
       "    }\n",
       "</style>\n",
       "<table border=\"1\" class=\"dataframe\">\n",
       "  <thead>\n",
       "    <tr style=\"text-align: right;\">\n",
       "      <th></th>\n",
       "      <th>id</th>\n",
       "      <th>sentiment</th>\n",
       "      <th>review</th>\n",
       "    </tr>\n",
       "  </thead>\n",
       "  <tbody>\n",
       "    <tr>\n",
       "      <th>0</th>\n",
       "      <td>5814_8</td>\n",
       "      <td>1</td>\n",
       "      <td>With all this stuff going down at the moment w...</td>\n",
       "    </tr>\n",
       "    <tr>\n",
       "      <th>1</th>\n",
       "      <td>2381_9</td>\n",
       "      <td>1</td>\n",
       "      <td>\"The Classic War of the Worlds\" by Timothy Hin...</td>\n",
       "    </tr>\n",
       "    <tr>\n",
       "      <th>2</th>\n",
       "      <td>7759_3</td>\n",
       "      <td>0</td>\n",
       "      <td>The film starts with a manager (Nicholas Bell)...</td>\n",
       "    </tr>\n",
       "    <tr>\n",
       "      <th>3</th>\n",
       "      <td>3630_4</td>\n",
       "      <td>0</td>\n",
       "      <td>It must be assumed that those who praised this...</td>\n",
       "    </tr>\n",
       "    <tr>\n",
       "      <th>4</th>\n",
       "      <td>9495_8</td>\n",
       "      <td>1</td>\n",
       "      <td>Superbly trashy and wondrously unpretentious 8...</td>\n",
       "    </tr>\n",
       "  </tbody>\n",
       "</table>\n",
       "</div>"
      ],
      "text/plain": [
       "       id  sentiment                                             review\n",
       "0  5814_8          1  With all this stuff going down at the moment w...\n",
       "1  2381_9          1  \"The Classic War of the Worlds\" by Timothy Hin...\n",
       "2  7759_3          0  The film starts with a manager (Nicholas Bell)...\n",
       "3  3630_4          0  It must be assumed that those who praised this...\n",
       "4  9495_8          1  Superbly trashy and wondrously unpretentious 8..."
      ]
     },
     "execution_count": 15,
     "metadata": {},
     "output_type": "execute_result"
    }
   ],
   "source": [
    "df = load_dataset('labeled_train')\n",
    "df.head()"
   ]
  },
  {
   "cell_type": "code",
   "execution_count": 16,
   "metadata": {
    "collapsed": true
   },
   "outputs": [],
   "source": [
    "# 这里的做法是把每条评论的所有单词的词向量家和取均值，naive\n",
    "def to_review_vector(review):\n",
    "    words = clean_text(review)\n",
    "    array = np.array([model[w] for w in words if w in model])\n",
    "    return pd.Series(array.mean(axis = 0))"
   ]
  },
  {
   "cell_type": "code",
   "execution_count": 17,
   "metadata": {},
   "outputs": [
    {
     "name": "stderr",
     "output_type": "stream",
     "text": [
      "/Users/zhangyanan/anaconda2/lib/python2.7/site-packages/ipykernel_launcher.py:3: DeprecationWarning: Call to deprecated `__contains__` (Method will be removed in 4.0.0, use self.wv.__contains__() instead).\n",
      "  This is separate from the ipykernel package so we can avoid doing imports until\n",
      "/Users/zhangyanan/anaconda2/lib/python2.7/site-packages/ipykernel_launcher.py:3: DeprecationWarning: Call to deprecated `__getitem__` (Method will be removed in 4.0.0, use self.wv.__getitem__() instead).\n",
      "  This is separate from the ipykernel package so we can avoid doing imports until\n"
     ]
    },
    {
     "data": {
      "text/html": [
       "<div>\n",
       "<style>\n",
       "    .dataframe thead tr:only-child th {\n",
       "        text-align: right;\n",
       "    }\n",
       "\n",
       "    .dataframe thead th {\n",
       "        text-align: left;\n",
       "    }\n",
       "\n",
       "    .dataframe tbody tr th {\n",
       "        vertical-align: top;\n",
       "    }\n",
       "</style>\n",
       "<table border=\"1\" class=\"dataframe\">\n",
       "  <thead>\n",
       "    <tr style=\"text-align: right;\">\n",
       "      <th></th>\n",
       "      <th>0</th>\n",
       "      <th>1</th>\n",
       "      <th>2</th>\n",
       "      <th>3</th>\n",
       "      <th>4</th>\n",
       "      <th>5</th>\n",
       "      <th>6</th>\n",
       "      <th>7</th>\n",
       "      <th>8</th>\n",
       "      <th>9</th>\n",
       "      <th>...</th>\n",
       "      <th>290</th>\n",
       "      <th>291</th>\n",
       "      <th>292</th>\n",
       "      <th>293</th>\n",
       "      <th>294</th>\n",
       "      <th>295</th>\n",
       "      <th>296</th>\n",
       "      <th>297</th>\n",
       "      <th>298</th>\n",
       "      <th>299</th>\n",
       "    </tr>\n",
       "  </thead>\n",
       "  <tbody>\n",
       "    <tr>\n",
       "      <th>0</th>\n",
       "      <td>-0.013136</td>\n",
       "      <td>-0.008601</td>\n",
       "      <td>0.008102</td>\n",
       "      <td>0.002320</td>\n",
       "      <td>-0.013041</td>\n",
       "      <td>0.004052</td>\n",
       "      <td>-0.008471</td>\n",
       "      <td>0.006639</td>\n",
       "      <td>0.014264</td>\n",
       "      <td>-0.019703</td>\n",
       "      <td>...</td>\n",
       "      <td>-0.003595</td>\n",
       "      <td>0.006053</td>\n",
       "      <td>-0.002416</td>\n",
       "      <td>-0.008749</td>\n",
       "      <td>-0.009902</td>\n",
       "      <td>0.011230</td>\n",
       "      <td>0.006375</td>\n",
       "      <td>-0.015609</td>\n",
       "      <td>0.009819</td>\n",
       "      <td>0.007952</td>\n",
       "    </tr>\n",
       "    <tr>\n",
       "      <th>1</th>\n",
       "      <td>-0.015347</td>\n",
       "      <td>0.002005</td>\n",
       "      <td>-0.000907</td>\n",
       "      <td>-0.007540</td>\n",
       "      <td>-0.012829</td>\n",
       "      <td>0.003942</td>\n",
       "      <td>-0.016349</td>\n",
       "      <td>0.011501</td>\n",
       "      <td>0.017876</td>\n",
       "      <td>-0.027880</td>\n",
       "      <td>...</td>\n",
       "      <td>-0.002300</td>\n",
       "      <td>0.010388</td>\n",
       "      <td>-0.005939</td>\n",
       "      <td>0.000633</td>\n",
       "      <td>0.002901</td>\n",
       "      <td>0.008876</td>\n",
       "      <td>0.004960</td>\n",
       "      <td>-0.010098</td>\n",
       "      <td>0.004710</td>\n",
       "      <td>0.000210</td>\n",
       "    </tr>\n",
       "    <tr>\n",
       "      <th>2</th>\n",
       "      <td>-0.016728</td>\n",
       "      <td>0.002448</td>\n",
       "      <td>0.000345</td>\n",
       "      <td>-0.002283</td>\n",
       "      <td>-0.006208</td>\n",
       "      <td>0.013001</td>\n",
       "      <td>-0.009454</td>\n",
       "      <td>0.013228</td>\n",
       "      <td>0.026653</td>\n",
       "      <td>-0.015238</td>\n",
       "      <td>...</td>\n",
       "      <td>0.008515</td>\n",
       "      <td>0.001848</td>\n",
       "      <td>-0.018959</td>\n",
       "      <td>0.011622</td>\n",
       "      <td>0.001687</td>\n",
       "      <td>0.007134</td>\n",
       "      <td>-0.016329</td>\n",
       "      <td>0.004105</td>\n",
       "      <td>0.000528</td>\n",
       "      <td>0.002606</td>\n",
       "    </tr>\n",
       "    <tr>\n",
       "      <th>3</th>\n",
       "      <td>-0.014231</td>\n",
       "      <td>-0.003985</td>\n",
       "      <td>0.004035</td>\n",
       "      <td>0.012628</td>\n",
       "      <td>-0.002745</td>\n",
       "      <td>0.003662</td>\n",
       "      <td>-0.018115</td>\n",
       "      <td>0.003086</td>\n",
       "      <td>0.014750</td>\n",
       "      <td>-0.028962</td>\n",
       "      <td>...</td>\n",
       "      <td>0.003085</td>\n",
       "      <td>0.005768</td>\n",
       "      <td>-0.017374</td>\n",
       "      <td>0.009206</td>\n",
       "      <td>0.009195</td>\n",
       "      <td>0.012355</td>\n",
       "      <td>-0.008875</td>\n",
       "      <td>-0.020016</td>\n",
       "      <td>0.004525</td>\n",
       "      <td>0.006851</td>\n",
       "    </tr>\n",
       "    <tr>\n",
       "      <th>4</th>\n",
       "      <td>-0.023095</td>\n",
       "      <td>-0.005043</td>\n",
       "      <td>0.006312</td>\n",
       "      <td>0.009030</td>\n",
       "      <td>-0.001652</td>\n",
       "      <td>0.009097</td>\n",
       "      <td>-0.013841</td>\n",
       "      <td>0.008905</td>\n",
       "      <td>0.018002</td>\n",
       "      <td>-0.011310</td>\n",
       "      <td>...</td>\n",
       "      <td>0.005649</td>\n",
       "      <td>0.004414</td>\n",
       "      <td>-0.011910</td>\n",
       "      <td>0.003434</td>\n",
       "      <td>-0.012384</td>\n",
       "      <td>0.004966</td>\n",
       "      <td>-0.003566</td>\n",
       "      <td>-0.000073</td>\n",
       "      <td>0.005456</td>\n",
       "      <td>0.008788</td>\n",
       "    </tr>\n",
       "  </tbody>\n",
       "</table>\n",
       "<p>5 rows × 300 columns</p>\n",
       "</div>"
      ],
      "text/plain": [
       "        0         1         2         3         4         5         6    \\\n",
       "0 -0.013136 -0.008601  0.008102  0.002320 -0.013041  0.004052 -0.008471   \n",
       "1 -0.015347  0.002005 -0.000907 -0.007540 -0.012829  0.003942 -0.016349   \n",
       "2 -0.016728  0.002448  0.000345 -0.002283 -0.006208  0.013001 -0.009454   \n",
       "3 -0.014231 -0.003985  0.004035  0.012628 -0.002745  0.003662 -0.018115   \n",
       "4 -0.023095 -0.005043  0.006312  0.009030 -0.001652  0.009097 -0.013841   \n",
       "\n",
       "        7         8         9      ...          290       291       292  \\\n",
       "0  0.006639  0.014264 -0.019703    ...    -0.003595  0.006053 -0.002416   \n",
       "1  0.011501  0.017876 -0.027880    ...    -0.002300  0.010388 -0.005939   \n",
       "2  0.013228  0.026653 -0.015238    ...     0.008515  0.001848 -0.018959   \n",
       "3  0.003086  0.014750 -0.028962    ...     0.003085  0.005768 -0.017374   \n",
       "4  0.008905  0.018002 -0.011310    ...     0.005649  0.004414 -0.011910   \n",
       "\n",
       "        293       294       295       296       297       298       299  \n",
       "0 -0.008749 -0.009902  0.011230  0.006375 -0.015609  0.009819  0.007952  \n",
       "1  0.000633  0.002901  0.008876  0.004960 -0.010098  0.004710  0.000210  \n",
       "2  0.011622  0.001687  0.007134 -0.016329  0.004105  0.000528  0.002606  \n",
       "3  0.009206  0.009195  0.012355 -0.008875 -0.020016  0.004525  0.006851  \n",
       "4  0.003434 -0.012384  0.004966 -0.003566 -0.000073  0.005456  0.008788  \n",
       "\n",
       "[5 rows x 300 columns]"
      ]
     },
     "execution_count": 17,
     "metadata": {},
     "output_type": "execute_result"
    }
   ],
   "source": [
    "train_data_features = df.review.apply(to_review_vector)\n",
    "train_data_features.head()"
   ]
  },
  {
   "cell_type": "markdown",
   "metadata": {},
   "source": [
    "现在，每条评论都由了一个词向量代表（如果是短文本的话，应该效果还可以）"
   ]
  },
  {
   "cell_type": "markdown",
   "metadata": {},
   "source": [
    "## 构建分类器"
   ]
  },
  {
   "cell_type": "code",
   "execution_count": 18,
   "metadata": {
    "collapsed": true
   },
   "outputs": [],
   "source": [
    "forest = RandomForestClassifier(n_estimators=100,random_state=20)\n",
    "forest = forest.fit(train_data_features,df.sentiment)"
   ]
  },
  {
   "cell_type": "code",
   "execution_count": 19,
   "metadata": {},
   "outputs": [
    {
     "data": {
      "text/plain": [
       "array([[12500,     0],\n",
       "       [    0, 12500]])"
      ]
     },
     "execution_count": 19,
     "metadata": {},
     "output_type": "execute_result"
    }
   ],
   "source": [
    "# 测试一下模型是否可用\n",
    "confusion_matrix(df.sentiment,forest.predict(train_data_features))"
   ]
  },
  {
   "cell_type": "markdown",
   "metadata": {},
   "source": [
    "## 清理占用内容的变量"
   ]
  },
  {
   "cell_type": "code",
   "execution_count": 20,
   "metadata": {
    "collapsed": true
   },
   "outputs": [],
   "source": [
    "del df \n",
    "del train_data_features"
   ]
  },
  {
   "cell_type": "markdown",
   "metadata": {},
   "source": [
    "## 预测测试集结果并上传Kaggle"
   ]
  },
  {
   "cell_type": "code",
   "execution_count": 21,
   "metadata": {},
   "outputs": [
    {
     "name": "stdout",
     "output_type": "stream",
     "text": [
      "Number of reviews: 25000\n"
     ]
    },
    {
     "data": {
      "text/html": [
       "<div>\n",
       "<style>\n",
       "    .dataframe thead tr:only-child th {\n",
       "        text-align: right;\n",
       "    }\n",
       "\n",
       "    .dataframe thead th {\n",
       "        text-align: left;\n",
       "    }\n",
       "\n",
       "    .dataframe tbody tr th {\n",
       "        vertical-align: top;\n",
       "    }\n",
       "</style>\n",
       "<table border=\"1\" class=\"dataframe\">\n",
       "  <thead>\n",
       "    <tr style=\"text-align: right;\">\n",
       "      <th></th>\n",
       "      <th>id</th>\n",
       "      <th>review</th>\n",
       "    </tr>\n",
       "  </thead>\n",
       "  <tbody>\n",
       "    <tr>\n",
       "      <th>0</th>\n",
       "      <td>12311_10</td>\n",
       "      <td>Naturally in a film who's main themes are of m...</td>\n",
       "    </tr>\n",
       "    <tr>\n",
       "      <th>1</th>\n",
       "      <td>8348_2</td>\n",
       "      <td>This movie is a disaster within a disaster fil...</td>\n",
       "    </tr>\n",
       "    <tr>\n",
       "      <th>2</th>\n",
       "      <td>5828_4</td>\n",
       "      <td>All in all, this is a movie for kids. We saw i...</td>\n",
       "    </tr>\n",
       "    <tr>\n",
       "      <th>3</th>\n",
       "      <td>7186_2</td>\n",
       "      <td>Afraid of the Dark left me with the impression...</td>\n",
       "    </tr>\n",
       "    <tr>\n",
       "      <th>4</th>\n",
       "      <td>12128_7</td>\n",
       "      <td>A very accurate depiction of small time mob li...</td>\n",
       "    </tr>\n",
       "  </tbody>\n",
       "</table>\n",
       "</div>"
      ],
      "text/plain": [
       "         id                                             review\n",
       "0  12311_10  Naturally in a film who's main themes are of m...\n",
       "1    8348_2  This movie is a disaster within a disaster fil...\n",
       "2    5828_4  All in all, this is a movie for kids. We saw i...\n",
       "3    7186_2  Afraid of the Dark left me with the impression...\n",
       "4   12128_7  A very accurate depiction of small time mob li..."
      ]
     },
     "execution_count": 21,
     "metadata": {},
     "output_type": "execute_result"
    }
   ],
   "source": [
    "df = load_dataset('test')\n",
    "df.head()"
   ]
  },
  {
   "cell_type": "code",
   "execution_count": 22,
   "metadata": {},
   "outputs": [
    {
     "name": "stderr",
     "output_type": "stream",
     "text": [
      "/Users/zhangyanan/anaconda2/lib/python2.7/site-packages/ipykernel_launcher.py:3: DeprecationWarning: Call to deprecated `__contains__` (Method will be removed in 4.0.0, use self.wv.__contains__() instead).\n",
      "  This is separate from the ipykernel package so we can avoid doing imports until\n",
      "/Users/zhangyanan/anaconda2/lib/python2.7/site-packages/ipykernel_launcher.py:3: DeprecationWarning: Call to deprecated `__getitem__` (Method will be removed in 4.0.0, use self.wv.__getitem__() instead).\n",
      "  This is separate from the ipykernel package so we can avoid doing imports until\n"
     ]
    },
    {
     "data": {
      "text/html": [
       "<div>\n",
       "<style>\n",
       "    .dataframe thead tr:only-child th {\n",
       "        text-align: right;\n",
       "    }\n",
       "\n",
       "    .dataframe thead th {\n",
       "        text-align: left;\n",
       "    }\n",
       "\n",
       "    .dataframe tbody tr th {\n",
       "        vertical-align: top;\n",
       "    }\n",
       "</style>\n",
       "<table border=\"1\" class=\"dataframe\">\n",
       "  <thead>\n",
       "    <tr style=\"text-align: right;\">\n",
       "      <th></th>\n",
       "      <th>0</th>\n",
       "      <th>1</th>\n",
       "      <th>2</th>\n",
       "      <th>3</th>\n",
       "      <th>4</th>\n",
       "      <th>5</th>\n",
       "      <th>6</th>\n",
       "      <th>7</th>\n",
       "      <th>8</th>\n",
       "      <th>9</th>\n",
       "      <th>...</th>\n",
       "      <th>290</th>\n",
       "      <th>291</th>\n",
       "      <th>292</th>\n",
       "      <th>293</th>\n",
       "      <th>294</th>\n",
       "      <th>295</th>\n",
       "      <th>296</th>\n",
       "      <th>297</th>\n",
       "      <th>298</th>\n",
       "      <th>299</th>\n",
       "    </tr>\n",
       "  </thead>\n",
       "  <tbody>\n",
       "    <tr>\n",
       "      <th>0</th>\n",
       "      <td>-0.021444</td>\n",
       "      <td>0.007004</td>\n",
       "      <td>-0.002707</td>\n",
       "      <td>0.010451</td>\n",
       "      <td>-0.004905</td>\n",
       "      <td>0.007704</td>\n",
       "      <td>-0.034731</td>\n",
       "      <td>0.021942</td>\n",
       "      <td>0.024857</td>\n",
       "      <td>-0.034567</td>\n",
       "      <td>...</td>\n",
       "      <td>0.005199</td>\n",
       "      <td>0.001436</td>\n",
       "      <td>-0.022824</td>\n",
       "      <td>0.016353</td>\n",
       "      <td>-0.002960</td>\n",
       "      <td>0.009028</td>\n",
       "      <td>-0.002879</td>\n",
       "      <td>-0.000971</td>\n",
       "      <td>-0.010807</td>\n",
       "      <td>0.004682</td>\n",
       "    </tr>\n",
       "    <tr>\n",
       "      <th>1</th>\n",
       "      <td>-0.014703</td>\n",
       "      <td>0.003183</td>\n",
       "      <td>0.000575</td>\n",
       "      <td>-0.006752</td>\n",
       "      <td>-0.004420</td>\n",
       "      <td>0.004441</td>\n",
       "      <td>-0.021425</td>\n",
       "      <td>0.007553</td>\n",
       "      <td>0.000617</td>\n",
       "      <td>-0.035690</td>\n",
       "      <td>...</td>\n",
       "      <td>-0.014743</td>\n",
       "      <td>0.009935</td>\n",
       "      <td>-0.008273</td>\n",
       "      <td>-0.006259</td>\n",
       "      <td>-0.013458</td>\n",
       "      <td>0.009888</td>\n",
       "      <td>0.006855</td>\n",
       "      <td>-0.016485</td>\n",
       "      <td>0.022149</td>\n",
       "      <td>0.007481</td>\n",
       "    </tr>\n",
       "    <tr>\n",
       "      <th>2</th>\n",
       "      <td>-0.011510</td>\n",
       "      <td>-0.022186</td>\n",
       "      <td>0.007573</td>\n",
       "      <td>-0.001629</td>\n",
       "      <td>-0.003071</td>\n",
       "      <td>-0.005469</td>\n",
       "      <td>-0.019439</td>\n",
       "      <td>0.008593</td>\n",
       "      <td>0.015717</td>\n",
       "      <td>-0.028939</td>\n",
       "      <td>...</td>\n",
       "      <td>0.000987</td>\n",
       "      <td>0.011413</td>\n",
       "      <td>-0.007867</td>\n",
       "      <td>-0.000501</td>\n",
       "      <td>-0.002767</td>\n",
       "      <td>0.011362</td>\n",
       "      <td>0.016648</td>\n",
       "      <td>-0.021968</td>\n",
       "      <td>0.010602</td>\n",
       "      <td>-0.002044</td>\n",
       "    </tr>\n",
       "    <tr>\n",
       "      <th>3</th>\n",
       "      <td>-0.021481</td>\n",
       "      <td>-0.007393</td>\n",
       "      <td>0.007776</td>\n",
       "      <td>-0.004275</td>\n",
       "      <td>0.007820</td>\n",
       "      <td>0.006995</td>\n",
       "      <td>-0.019880</td>\n",
       "      <td>0.006401</td>\n",
       "      <td>0.022901</td>\n",
       "      <td>-0.029515</td>\n",
       "      <td>...</td>\n",
       "      <td>-0.004158</td>\n",
       "      <td>0.004065</td>\n",
       "      <td>0.001912</td>\n",
       "      <td>-0.005680</td>\n",
       "      <td>-0.004116</td>\n",
       "      <td>0.002337</td>\n",
       "      <td>0.002194</td>\n",
       "      <td>-0.008822</td>\n",
       "      <td>0.004048</td>\n",
       "      <td>0.005908</td>\n",
       "    </tr>\n",
       "    <tr>\n",
       "      <th>4</th>\n",
       "      <td>-0.017962</td>\n",
       "      <td>-0.006804</td>\n",
       "      <td>0.006364</td>\n",
       "      <td>-0.007151</td>\n",
       "      <td>-0.003680</td>\n",
       "      <td>0.004489</td>\n",
       "      <td>-0.014552</td>\n",
       "      <td>0.013079</td>\n",
       "      <td>0.018630</td>\n",
       "      <td>-0.013850</td>\n",
       "      <td>...</td>\n",
       "      <td>-0.001910</td>\n",
       "      <td>0.000475</td>\n",
       "      <td>-0.006789</td>\n",
       "      <td>0.000849</td>\n",
       "      <td>-0.007021</td>\n",
       "      <td>0.016665</td>\n",
       "      <td>-0.006151</td>\n",
       "      <td>-0.010763</td>\n",
       "      <td>0.014512</td>\n",
       "      <td>-0.001965</td>\n",
       "    </tr>\n",
       "  </tbody>\n",
       "</table>\n",
       "<p>5 rows × 300 columns</p>\n",
       "</div>"
      ],
      "text/plain": [
       "        0         1         2         3         4         5         6    \\\n",
       "0 -0.021444  0.007004 -0.002707  0.010451 -0.004905  0.007704 -0.034731   \n",
       "1 -0.014703  0.003183  0.000575 -0.006752 -0.004420  0.004441 -0.021425   \n",
       "2 -0.011510 -0.022186  0.007573 -0.001629 -0.003071 -0.005469 -0.019439   \n",
       "3 -0.021481 -0.007393  0.007776 -0.004275  0.007820  0.006995 -0.019880   \n",
       "4 -0.017962 -0.006804  0.006364 -0.007151 -0.003680  0.004489 -0.014552   \n",
       "\n",
       "        7         8         9      ...          290       291       292  \\\n",
       "0  0.021942  0.024857 -0.034567    ...     0.005199  0.001436 -0.022824   \n",
       "1  0.007553  0.000617 -0.035690    ...    -0.014743  0.009935 -0.008273   \n",
       "2  0.008593  0.015717 -0.028939    ...     0.000987  0.011413 -0.007867   \n",
       "3  0.006401  0.022901 -0.029515    ...    -0.004158  0.004065  0.001912   \n",
       "4  0.013079  0.018630 -0.013850    ...    -0.001910  0.000475 -0.006789   \n",
       "\n",
       "        293       294       295       296       297       298       299  \n",
       "0  0.016353 -0.002960  0.009028 -0.002879 -0.000971 -0.010807  0.004682  \n",
       "1 -0.006259 -0.013458  0.009888  0.006855 -0.016485  0.022149  0.007481  \n",
       "2 -0.000501 -0.002767  0.011362  0.016648 -0.021968  0.010602 -0.002044  \n",
       "3 -0.005680 -0.004116  0.002337  0.002194 -0.008822  0.004048  0.005908  \n",
       "4  0.000849 -0.007021  0.016665 -0.006151 -0.010763  0.014512 -0.001965  \n",
       "\n",
       "[5 rows x 300 columns]"
      ]
     },
     "execution_count": 22,
     "metadata": {},
     "output_type": "execute_result"
    }
   ],
   "source": [
    "test_data_features = df.review.apply(to_review_vector)\n",
    "test_data_features.head()"
   ]
  },
  {
   "cell_type": "code",
   "execution_count": 23,
   "metadata": {},
   "outputs": [
    {
     "data": {
      "text/html": [
       "<div>\n",
       "<style>\n",
       "    .dataframe thead tr:only-child th {\n",
       "        text-align: right;\n",
       "    }\n",
       "\n",
       "    .dataframe thead th {\n",
       "        text-align: left;\n",
       "    }\n",
       "\n",
       "    .dataframe tbody tr th {\n",
       "        vertical-align: top;\n",
       "    }\n",
       "</style>\n",
       "<table border=\"1\" class=\"dataframe\">\n",
       "  <thead>\n",
       "    <tr style=\"text-align: right;\">\n",
       "      <th></th>\n",
       "      <th>id</th>\n",
       "      <th>sentiment</th>\n",
       "    </tr>\n",
       "  </thead>\n",
       "  <tbody>\n",
       "    <tr>\n",
       "      <th>0</th>\n",
       "      <td>12311_10</td>\n",
       "      <td>1</td>\n",
       "    </tr>\n",
       "    <tr>\n",
       "      <th>1</th>\n",
       "      <td>8348_2</td>\n",
       "      <td>0</td>\n",
       "    </tr>\n",
       "    <tr>\n",
       "      <th>2</th>\n",
       "      <td>5828_4</td>\n",
       "      <td>1</td>\n",
       "    </tr>\n",
       "    <tr>\n",
       "      <th>3</th>\n",
       "      <td>7186_2</td>\n",
       "      <td>0</td>\n",
       "    </tr>\n",
       "    <tr>\n",
       "      <th>4</th>\n",
       "      <td>12128_7</td>\n",
       "      <td>1</td>\n",
       "    </tr>\n",
       "  </tbody>\n",
       "</table>\n",
       "</div>"
      ],
      "text/plain": [
       "         id  sentiment\n",
       "0  12311_10          1\n",
       "1    8348_2          0\n",
       "2    5828_4          1\n",
       "3    7186_2          0\n",
       "4   12128_7          1"
      ]
     },
     "execution_count": 23,
     "metadata": {},
     "output_type": "execute_result"
    }
   ],
   "source": [
    "result = forest.predict(test_data_features)\n",
    "output = pd.DataFrame({'id':df.id,'sentiment':result})\n",
    "output.to_csv(os.path.join('.','data','word2vec_model.csv'),index=False)\n",
    "output.head()"
   ]
  },
  {
   "cell_type": "code",
   "execution_count": 24,
   "metadata": {
    "collapsed": true
   },
   "outputs": [],
   "source": [
    "del df \n",
    "del test_data_features\n",
    "del forest"
   ]
  },
  {
   "cell_type": "markdown",
   "metadata": {},
   "source": [
    "## 对词向量进行聚类"
   ]
  },
  {
   "cell_type": "code",
   "execution_count": 33,
   "metadata": {},
   "outputs": [
    {
     "name": "stderr",
     "output_type": "stream",
     "text": [
      "/Users/zhangyanan/anaconda2/lib/python2.7/site-packages/ipykernel_launcher.py:2: DeprecationWarning: Call to deprecated `syn0` (Attribute will be removed in 4.0.0, use self.wv.vectors instead).\n",
      "  \n"
     ]
    }
   ],
   "source": [
    "# 找到聚类的个数\n",
    "word_vec = model.wv.syn0\n",
    "num_clusters = word_vec.shape[0]//10"
   ]
  },
  {
   "cell_type": "code",
   "execution_count": null,
   "metadata": {
    "collapsed": true
   },
   "outputs": [],
   "source": [
    "%%time\n",
    "\n",
    "kmeans_clustering = KMeans(n_clusters=num_clusters,n_jobs=4)\n",
    "idx = kmeans_clustering.fit_predict(word_vec)"
   ]
  },
  {
   "cell_type": "code",
   "execution_count": null,
   "metadata": {
    "collapsed": true
   },
   "outputs": [],
   "source": []
  }
 ],
 "metadata": {
  "kernelspec": {
   "display_name": "Python 2",
   "language": "python",
   "name": "python2"
  },
  "language_info": {
   "codemirror_mode": {
    "name": "ipython",
    "version": 2
   },
   "file_extension": ".py",
   "mimetype": "text/x-python",
   "name": "python",
   "nbconvert_exporter": "python",
   "pygments_lexer": "ipython2",
   "version": "2.7.14"
  },
  "toc": {
   "nav_menu": {},
   "number_sections": true,
   "sideBar": true,
   "skip_h1_title": false,
   "title_cell": "Table of Contents",
   "title_sidebar": "Contents",
   "toc_cell": false,
   "toc_position": {},
   "toc_section_display": true,
   "toc_window_display": false
  }
 },
 "nbformat": 4,
 "nbformat_minor": 2
}
